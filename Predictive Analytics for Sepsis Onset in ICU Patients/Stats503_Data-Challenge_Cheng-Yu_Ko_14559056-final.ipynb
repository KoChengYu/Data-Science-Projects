{
 "cells": [
  {
   "cell_type": "markdown",
   "id": "40190a53",
   "metadata": {},
   "source": [
    "# STATS 503 Data Challenge\n",
    "## ChengYu Ko"
   ]
  },
  {
   "cell_type": "markdown",
   "id": "6e02584e",
   "metadata": {},
   "source": [
    "# Data Preprocessing"
   ]
  },
  {
   "cell_type": "code",
   "execution_count": 1,
   "id": "0623892b",
   "metadata": {},
   "outputs": [],
   "source": [
    "import pandas as pd\n",
    "import numpy as np\n",
    "import matplotlib as mpl\n",
    "import matplotlib.pyplot as plt\n",
    "import seaborn as sns\n",
    "%matplotlib inline\n",
    "import random\n",
    "import glob\n",
    "import os\n",
    "import warnings\n",
    "warnings.filterwarnings('ignore')"
   ]
  },
  {
   "cell_type": "code",
   "execution_count": 2,
   "id": "ac975f00",
   "metadata": {},
   "outputs": [],
   "source": [
    "# read the path\n",
    "file_path = 'D:\\\\Studies\\\\UMich\\\\MAE Program\\\\2023 Winter\\\\STATS 503\\\\Data Challenge\\\\x_all'\n",
    "# list all the files from the directory\n",
    "file_list = glob.glob(os.path.join(file_path, '*.txt'))"
   ]
  },
  {
   "cell_type": "code",
   "execution_count": 3,
   "id": "774947c2",
   "metadata": {},
   "outputs": [],
   "source": [
    "# import train and test data\n",
    "train_outcome = pd.read_csv('train_outcome.csv')\n",
    "test_nolabel = pd.read_csv('test_nolabel.csv')\n",
    "\n",
    "# split the train_outcome to train & val\n",
    "from sklearn.model_selection import train_test_split\n",
    "y_train_wID, y_val_wID = train_test_split(train_outcome, test_size=0.2, random_state=100, stratify=train_outcome['Outcome'], shuffle=True)\n",
    "\n",
    "# extract train, val, test ID data\n",
    "train_ID = y_train_wID['ID'].to_list()\n",
    "val_ID = y_val_wID['ID'].to_list()\n",
    "test_ID = test_nolabel['ID'].to_list()"
   ]
  },
  {
   "cell_type": "code",
   "execution_count": 4,
   "id": "3e45a187",
   "metadata": {},
   "outputs": [],
   "source": [
    "# find the train, val, and test data\n",
    "train_list = []\n",
    "val_list = []\n",
    "test_list = []\n",
    "\n",
    "for j in file_list:\n",
    "    for i in train_ID:\n",
    "        if i == int(j.split('\\\\')[-1].split('.')[0]):\n",
    "            train_list.append(j)\n",
    "\n",
    "for j in file_list:\n",
    "    for i in val_ID:\n",
    "        if i == int(j.split('\\\\')[-1].split('.')[0]):\n",
    "            val_list.append(j)\n",
    "\n",
    "for j in file_list:\n",
    "    for i in test_ID:\n",
    "        if i == int(j.split('\\\\')[-1].split('.')[0]):\n",
    "            test_list.append(j)"
   ]
  },
  {
   "cell_type": "code",
   "execution_count": 5,
   "id": "3f54c4d3",
   "metadata": {},
   "outputs": [],
   "source": [
    "# original data transformation\n",
    "# X_train\n",
    "df_list = []\n",
    "for t in train_list:\n",
    "    df = pd.read_csv(t)\n",
    "    df = df.pivot(index='Hour', columns=['Variable'], values='Value')\n",
    "    df = df.reset_index()\n",
    "    df.columns.name = None\n",
    "    # fill in the fixed values (demographics)\n",
    "    df['ID'] = df['ID'].fillna(df['ID'].max())\n",
    "    df['Age'] = df['Age'].fillna(df['Age'].max())\n",
    "    df['Gender'] = df['Gender'].fillna(df['Gender'].max())\n",
    "    df_list.append(df)\n",
    "# concatenate dataframes\n",
    "X_train = pd.concat(df_list, axis=0)\n",
    "X_train = X_train.sort_values(by=['ID', 'Hour'])\n",
    "\n",
    "# X_val\n",
    "df_list = []\n",
    "for v in val_list:\n",
    "    df = pd.read_csv(v)\n",
    "    df = df.pivot(index='Hour', columns=['Variable'], values='Value')\n",
    "    df = df.reset_index()\n",
    "    df.columns.name = None\n",
    "    # fill in the fixed values (demographics)\n",
    "    df['ID'] = df['ID'].fillna(df['ID'].max())\n",
    "    df['Age'] = df['Age'].fillna(df['Age'].max())\n",
    "    df['Gender'] = df['Gender'].fillna(df['Gender'].max())\n",
    "    df_list.append(df)\n",
    "# concatenate dataframes\n",
    "X_val = pd.concat(df_list, axis=0)\n",
    "X_val = X_val.sort_values(by=['ID', 'Hour'])\n",
    "\n",
    "# X_test\n",
    "df_list = []\n",
    "for t in test_list:\n",
    "    df = pd.read_csv(t)\n",
    "    df = df.pivot(index='Hour', columns=['Variable'], values='Value')\n",
    "    df = df.reset_index()\n",
    "    df.columns.name = None\n",
    "    # fill in the fixed values (demographics)\n",
    "    df['ID'] = df['ID'].fillna(df['ID'].max())\n",
    "    df['Age'] = df['Age'].fillna(df['Age'].max())\n",
    "    df['Gender'] = df['Gender'].fillna(df['Gender'].max())\n",
    "    df_list.append(df)\n",
    "# concatenate dataframes\n",
    "X_test = pd.concat(df_list, axis=0)\n",
    "X_test = X_test.sort_values(by=['ID', 'Hour'])"
   ]
  },
  {
   "cell_type": "code",
   "execution_count": 6,
   "id": "79066efd",
   "metadata": {},
   "outputs": [],
   "source": [
    "# y_train\n",
    "y_train = train_outcome.loc[train_outcome['ID'].isin(X_train.ID.unique())]\n",
    "y_train = y_train.set_index('ID')\n",
    "\n",
    "# y_val\n",
    "y_val = train_outcome.loc[train_outcome['ID'].isin(X_val.ID.unique())]\n",
    "y_val = y_val.set_index('ID')"
   ]
  },
  {
   "cell_type": "code",
   "execution_count": 7,
   "id": "5f1a59f3",
   "metadata": {},
   "outputs": [],
   "source": [
    "# mean imputation by grouping ID\n",
    "imputed_columns = ['HR', 'O2Sat', 'Temp', 'SBP', 'MAP', 'DBP', 'Resp', 'EtCO2', 'BaseExcess', 'HCO3',\n",
    "                   'FiO2', 'pH', 'PaCO2', 'SaO2', 'AST','BUN', 'Alkalinephos', 'Calcium', 'Chloride',\n",
    "                   'Creatinine', 'Bilirubin_direct', 'Glucose', 'Lactate', 'Magnesium','Phosphate',\n",
    "                   'Potassium', 'Bilirubin_total', 'TroponinI', 'Hct', 'Hgb', 'PTT', 'WBC', 'Fibrinogen',\n",
    "                   'Platelets', 'Unit1', 'Unit2']\n",
    "\n",
    "# X_train\n",
    "X_train_imp = X_train\n",
    "for i in imputed_columns:\n",
    "    X_train_imp[i] = X_train.groupby('ID')[i].transform(lambda x: x.fillna(x.mean()))\n",
    "\n",
    "# X_val\n",
    "X_val_imp = X_val\n",
    "for i in imputed_columns:\n",
    "    X_val_imp[i] = X_val.groupby('ID')[i].transform(lambda x: x.fillna(x.mean()))\n",
    "\n",
    "# X_test\n",
    "X_test_imp = X_test\n",
    "for i in imputed_columns:\n",
    "    X_test_imp[i] = X_test.groupby('ID')[i].transform(lambda x: x.fillna(x.mean()))"
   ]
  },
  {
   "cell_type": "code",
   "execution_count": 8,
   "id": "b633dba8",
   "metadata": {},
   "outputs": [],
   "source": [
    "# calculate summary statistics by 1 expanding windows to capture the time effect\n",
    "# X_train\n",
    "expanding_train = []\n",
    "for id in X_train_imp['ID'].unique():\n",
    "    df = X_train_imp.loc[X_train_imp['ID'] == id]\n",
    "    df1 = pd.DataFrame(df.expanding(1).mean().iloc[-1, :]).T\n",
    "    expanding_train.append(df1)\n",
    "# concatenate dataframes\n",
    "X_train_expanding = pd.concat(expanding_train, axis=0)\n",
    "X_train_expanding = X_train_expanding.sort_values(by=['ID'])\n",
    "X_train_expanding = X_train_expanding.reset_index(drop=True)\n",
    "\n",
    "# X_val\n",
    "expanding_val = []\n",
    "for id in X_val_imp['ID'].unique():\n",
    "    df = X_val_imp.loc[X_val_imp['ID'] == id]\n",
    "    df1 = pd.DataFrame(df.expanding(1).mean().iloc[-1, :]).T\n",
    "    expanding_val.append(df1)\n",
    "# concatenate dataframes\n",
    "X_val_expanding = pd.concat(expanding_val, axis=0, ignore_index=True)\n",
    "X_val_expanding = X_val_expanding.sort_values(by=['ID'])\n",
    "X_val_expanding = X_val_expanding.reset_index(drop=True)\n",
    "\n",
    "# X_test\n",
    "expanding_test = []\n",
    "for id in X_test_imp['ID'].unique():\n",
    "    df = X_test_imp.loc[X_test_imp['ID'] == id]\n",
    "    df1 = pd.DataFrame(df.expanding(1).mean().iloc[-1, :]).T\n",
    "    expanding_test.append(df1)\n",
    "# concatenate dataframes\n",
    "X_test_expanding = pd.concat(expanding_test, axis=0)\n",
    "X_test_expanding = X_test_expanding.sort_values(by=['ID'])\n",
    "X_test_expanding = X_test_expanding.reset_index(drop=True)"
   ]
  },
  {
   "cell_type": "code",
   "execution_count": 9,
   "id": "15467735",
   "metadata": {},
   "outputs": [],
   "source": [
    "# drop Unit1 and Unit2\n",
    "X_train_expanding1 = X_train_expanding.set_index('ID').drop(['Unit1', 'Unit2'], axis=1)\n",
    "X_val_expanding1 = X_val_expanding.set_index('ID').drop(['Unit1', 'Unit2'], axis=1)\n",
    "X_test_expanding1 = X_test_expanding.set_index('ID').drop(['Unit1', 'Unit2'], axis=1)"
   ]
  },
  {
   "cell_type": "code",
   "execution_count": 10,
   "id": "940f9a42",
   "metadata": {},
   "outputs": [],
   "source": [
    "# MICE imputation for all of the remaining NaNs\n",
    "from sklearn.experimental import enable_iterative_imputer\n",
    "from sklearn.impute import IterativeImputer\n",
    "\n",
    "imp = IterativeImputer(max_iter=20, random_state=100)\n",
    "\n",
    "# X_train\n",
    "X_train_mice = imp.fit_transform(X_train_expanding1)\n",
    "X_train_mice = pd.DataFrame(X_train_mice, columns=X_train_expanding1.columns)\n",
    "\n",
    "# X_val\n",
    "X_val_mice = imp.fit_transform(X_val_expanding1)\n",
    "X_val_mice = pd.DataFrame(X_val_mice, columns=X_val_expanding1.columns)\n",
    "\n",
    "# X_test\n",
    "X_test_mice = imp.fit_transform(X_test_expanding1)\n",
    "X_test_mice = pd.DataFrame(X_test_mice, columns=X_test_expanding1.columns)"
   ]
  },
  {
   "cell_type": "code",
   "execution_count": 11,
   "id": "b398028d",
   "metadata": {},
   "outputs": [],
   "source": [
    "# deal with imbalanced data by synthetic minority oversampling technique\n",
    "from imblearn.over_sampling import SMOTE\n",
    "\n",
    "# fit predictor and target variable\n",
    "smote = SMOTE(random_state=100)\n",
    "X_train_smote, y_train_smote = smote.fit_resample(X_train_mice, y_train)"
   ]
  },
  {
   "cell_type": "markdown",
   "id": "179ab572",
   "metadata": {},
   "source": [
    "# Cross-Validation Setting"
   ]
  },
  {
   "cell_type": "code",
   "execution_count": 12,
   "id": "2ef3e1d3",
   "metadata": {},
   "outputs": [],
   "source": [
    "from sklearn.model_selection import KFold\n",
    "from sklearn.model_selection import GridSearchCV\n",
    "from sklearn.model_selection import RandomizedSearchCV\n",
    "\n",
    "folds = KFold(n_splits=5, shuffle=True, random_state=100)"
   ]
  },
  {
   "cell_type": "markdown",
   "id": "caac0907",
   "metadata": {},
   "source": [
    "# Random Forest"
   ]
  },
  {
   "cell_type": "code",
   "execution_count": 13,
   "id": "c7fd511c",
   "metadata": {},
   "outputs": [],
   "source": [
    "hyper_params_rf = [{'n_estimators': [1, 2, 5, 10, 50, 80, 100],\n",
    "                    'max_depth': [1, 2, 5, 10, 20, 50, 100],\n",
    "                    'max_leaf_nodes': [1, 2, 5, 10, 30, 50, 100, 150],\n",
    "                    'max_features': [1, 2, 5, 6, 10, 20, 30, 40, 50]}]"
   ]
  },
  {
   "cell_type": "code",
   "execution_count": 14,
   "id": "c773c558",
   "metadata": {},
   "outputs": [
    {
     "data": {
      "text/plain": [
       "GridSearchCV(cv=KFold(n_splits=5, random_state=100, shuffle=True),\n",
       "             estimator=RandomForestClassifier(random_state=100), n_jobs=-1,\n",
       "             param_grid=[{'max_depth': [1, 2, 5, 10, 20, 50, 100],\n",
       "                          'max_features': [1, 2, 5, 6, 10, 20, 30, 40, 50],\n",
       "                          'max_leaf_nodes': [1, 2, 5, 10, 30, 50, 100, 150],\n",
       "                          'n_estimators': [1, 2, 5, 10, 50, 80, 100]}],\n",
       "             scoring='accuracy')"
      ]
     },
     "execution_count": 14,
     "metadata": {},
     "output_type": "execute_result"
    }
   ],
   "source": [
    "from sklearn.ensemble import RandomForestClassifier\n",
    "\n",
    "# model selection by 5-fold cross-validation\n",
    "model_rf = RandomForestClassifier(random_state=100)\n",
    "model_rf_cv = GridSearchCV(estimator=model_rf,\n",
    "                           param_grid=hyper_params_rf,\n",
    "                           scoring='accuracy',\n",
    "                           cv=folds,\n",
    "                           n_jobs=-1)\n",
    "model_rf_cv.fit(X_train_smote.iloc[:4000], y_train_smote[:4000])"
   ]
  },
  {
   "cell_type": "code",
   "execution_count": 15,
   "id": "d492ea5f",
   "metadata": {},
   "outputs": [
    {
     "data": {
      "text/plain": [
       "{'max_depth': 20,\n",
       " 'max_features': 30,\n",
       " 'max_leaf_nodes': 100,\n",
       " 'n_estimators': 100}"
      ]
     },
     "execution_count": 15,
     "metadata": {},
     "output_type": "execute_result"
    }
   ],
   "source": [
    "model_rf_cv.best_params_"
   ]
  },
  {
   "cell_type": "code",
   "execution_count": 16,
   "id": "44ed3bc6",
   "metadata": {},
   "outputs": [
    {
     "data": {
      "text/plain": [
       "RandomForestClassifier(max_depth=20, max_features=30, max_leaf_nodes=100,\n",
       "                       random_state=100)"
      ]
     },
     "execution_count": 16,
     "metadata": {},
     "output_type": "execute_result"
    }
   ],
   "source": [
    "# fit the best model\n",
    "model_rf = RandomForestClassifier(n_estimators=model_rf_cv.best_params_['n_estimators'], max_depth=model_rf_cv.best_params_['max_depth'], max_leaf_nodes=model_rf_cv.best_params_['max_leaf_nodes'], max_features=model_rf_cv.best_params_['max_features'], random_state=100)\n",
    "model_rf.fit(X_train_smote, y_train_smote)"
   ]
  },
  {
   "cell_type": "code",
   "execution_count": 17,
   "id": "df18bd11",
   "metadata": {},
   "outputs": [],
   "source": [
    "# predict the val set\n",
    "y_pred_rf = model_rf.predict(X_val_mice)\n",
    "y_pred_prob_rf = model_rf.predict_proba(X_val_mice)"
   ]
  },
  {
   "cell_type": "code",
   "execution_count": 18,
   "id": "d8b52f12",
   "metadata": {},
   "outputs": [
    {
     "data": {
      "text/plain": [
       "0.9204357873885771"
      ]
     },
     "execution_count": 18,
     "metadata": {},
     "output_type": "execute_result"
    }
   ],
   "source": [
    "# calculate model accuracy\n",
    "acc_rf = model_rf.score(X_val_mice, y_val)\n",
    "acc_rf"
   ]
  },
  {
   "cell_type": "code",
   "execution_count": 19,
   "id": "d6f70b09",
   "metadata": {},
   "outputs": [
    {
     "data": {
      "text/plain": [
       "0.8304011077296725"
      ]
     },
     "execution_count": 19,
     "metadata": {},
     "output_type": "execute_result"
    }
   ],
   "source": [
    "# calculate the area under the receiver operating characteristic curve\n",
    "from sklearn.metrics import roc_curve, auc\n",
    "\n",
    "# compute the true positive rate and the false positive rate\n",
    "fpr, tpr, thresholds = roc_curve(y_val, y_pred_prob_rf[:, 1])\n",
    "auc_rf = auc(fpr, tpr)\n",
    "auc_rf"
   ]
  },
  {
   "cell_type": "code",
   "execution_count": 20,
   "id": "edc0ea43",
   "metadata": {},
   "outputs": [
    {
     "data": {
      "text/plain": [
       "0.19389341804207305"
      ]
     },
     "execution_count": 20,
     "metadata": {},
     "output_type": "execute_result"
    }
   ],
   "source": [
    "# calculate the balanced error rate\n",
    "from sklearn.metrics import balanced_accuracy_score\n",
    "\n",
    "ber_rf = 1 - balanced_accuracy_score(y_val, y_pred_rf)\n",
    "ber_rf"
   ]
  },
  {
   "cell_type": "code",
   "execution_count": 21,
   "id": "6f55ad71",
   "metadata": {},
   "outputs": [
    {
     "data": {
      "image/png": "[encoded data removed]",
      "text/plain": [
       "<Figure size 640x480 with 2 Axes>"
      ]
     },
     "metadata": {},
     "output_type": "display_data"
    }
   ],
   "source": [
    "# confusion matrix for the val set\n",
    "from sklearn.metrics import confusion_matrix\n",
    "from sklearn.metrics import ConfusionMatrixDisplay\n",
    "\n",
    "cm_val_rf = confusion_matrix(y_val, y_pred_rf)\n",
    "cm_display_rf = ConfusionMatrixDisplay(confusion_matrix=cm_val_rf, display_labels=['0', '1'])\n",
    "cm_display_rf.plot()\n",
    "plt.show()"
   ]
  },
  {
   "cell_type": "code",
   "execution_count": 22,
   "id": "bc423ed8",
   "metadata": {},
   "outputs": [],
   "source": [
    "# predict the test set\n",
    "y_pred_test_rf = model_rf.predict(X_test_mice)\n",
    "y_pred_prob_test_rf = model_rf.predict_proba(X_test_mice)"
   ]
  },
  {
   "cell_type": "code",
   "execution_count": 23,
   "id": "ed5e7171",
   "metadata": {},
   "outputs": [],
   "source": [
    "test_results_rf = test_nolabel\n",
    "test_results_rf['Outcome'] = y_pred_test_rf\n",
    "test_results_rf['Score'] = y_pred_prob_test_rf[:, 1]"
   ]
  },
  {
   "cell_type": "code",
   "execution_count": 24,
   "id": "a0d19ffd",
   "metadata": {},
   "outputs": [
    {
     "data": {
      "text/plain": [
       "0    4359\n",
       "1    2131\n",
       "Name: Outcome, dtype: int64"
      ]
     },
     "execution_count": 24,
     "metadata": {},
     "output_type": "execute_result"
    }
   ],
   "source": [
    "test_results_rf['Outcome'].value_counts()"
   ]
  },
  {
   "cell_type": "code",
   "execution_count": null,
   "id": "12f67376",
   "metadata": {},
   "outputs": [],
   "source": []
  },
  {
   "cell_type": "code",
   "execution_count": null,
   "id": "f01df0b5",
   "metadata": {},
   "outputs": [],
   "source": []
  },
  {
   "cell_type": "markdown",
   "id": "34757501",
   "metadata": {},
   "source": [
    "# AdaBoost with Decision Trees"
   ]
  },
  {
   "cell_type": "code",
   "execution_count": 25,
   "id": "40e57cf6",
   "metadata": {},
   "outputs": [],
   "source": [
    "hyper_params_ada = [{'n_estimators': [1, 5, 10, 20, 40, 50],\n",
    "                     'learning_rate': [0.001, 0.01, 0.1, 0.5, 1],\n",
    "                     'base_estimator__max_depth': [2, 5, 10, 20, 30, 50],\n",
    "                     'base_estimator__max_features': [5, 10, 15, 30, 40, 50],\n",
    "                     'base_estimator__max_leaf_nodes': [5, 10, 20, 40, 50]}]"
   ]
  },
  {
   "cell_type": "code",
   "execution_count": 26,
   "id": "370d3f55",
   "metadata": {},
   "outputs": [
    {
     "data": {
      "text/plain": [
       "GridSearchCV(cv=KFold(n_splits=5, random_state=100, shuffle=True),\n",
       "             estimator=AdaBoostClassifier(base_estimator=DecisionTreeClassifier(random_state=100),\n",
       "                                          random_state=100),\n",
       "             n_jobs=-1,\n",
       "             param_grid=[{'base_estimator__max_depth': [2, 5, 10, 20, 30, 50],\n",
       "                          'base_estimator__max_features': [5, 10, 15, 30, 40,\n",
       "                                                           50],\n",
       "                          'base_estimator__max_leaf_nodes': [5, 10, 20, 40, 50],\n",
       "                          'learning_rate': [0.001, 0.01, 0.1, 0.5, 1],\n",
       "                          'n_estimators': [1, 5, 10, 20, 40, 50]}],\n",
       "             scoring='accuracy')"
      ]
     },
     "execution_count": 26,
     "metadata": {},
     "output_type": "execute_result"
    }
   ],
   "source": [
    "from sklearn.ensemble import AdaBoostClassifier\n",
    "from sklearn.tree import DecisionTreeClassifier\n",
    "\n",
    "# model selection by 5-fold cross-validation\n",
    "model_ada = AdaBoostClassifier(DecisionTreeClassifier(random_state=100), random_state=100)\n",
    "model_ada_cv = GridSearchCV(estimator=model_ada,\n",
    "                            param_grid=hyper_params_ada,\n",
    "                            scoring='accuracy',\n",
    "                            cv=folds,\n",
    "                            n_jobs=-1)\n",
    "model_ada_cv.fit(X_train_smote.iloc[:5000], y_train_smote[:5000])"
   ]
  },
  {
   "cell_type": "code",
   "execution_count": 27,
   "id": "b1e9aedf",
   "metadata": {},
   "outputs": [
    {
     "data": {
      "text/plain": [
       "{'base_estimator__max_depth': 10,\n",
       " 'base_estimator__max_features': 30,\n",
       " 'base_estimator__max_leaf_nodes': 10,\n",
       " 'learning_rate': 0.1,\n",
       " 'n_estimators': 50}"
      ]
     },
     "execution_count": 27,
     "metadata": {},
     "output_type": "execute_result"
    }
   ],
   "source": [
    "model_ada_cv.best_params_"
   ]
  },
  {
   "cell_type": "code",
   "execution_count": 28,
   "id": "a6d5eb2d",
   "metadata": {},
   "outputs": [
    {
     "data": {
      "text/plain": [
       "AdaBoostClassifier(base_estimator=DecisionTreeClassifier(max_depth=10,\n",
       "                                                         max_features=30,\n",
       "                                                         max_leaf_nodes=10,\n",
       "                                                         random_state=100),\n",
       "                   learning_rate=0.1, random_state=100)"
      ]
     },
     "execution_count": 28,
     "metadata": {},
     "output_type": "execute_result"
    }
   ],
   "source": [
    "# fit the best model\n",
    "model_ada = AdaBoostClassifier(DecisionTreeClassifier(max_depth=model_ada_cv.best_params_['base_estimator__max_depth'], max_features=model_ada_cv.best_params_['base_estimator__max_features'], max_leaf_nodes=model_ada_cv.best_params_['base_estimator__max_leaf_nodes'], random_state=100), n_estimators=model_ada_cv.best_params_['n_estimators'], learning_rate=model_ada_cv.best_params_['learning_rate'], random_state=100)\n",
    "model_ada.fit(X_train_smote, y_train_smote)"
   ]
  },
  {
   "cell_type": "code",
   "execution_count": 29,
   "id": "4402885c",
   "metadata": {},
   "outputs": [],
   "source": [
    "# predict the val set\n",
    "y_pred_ada = model_ada.predict(X_val_mice)\n",
    "y_pred_prob_ada = model_ada.predict_proba(X_val_mice)"
   ]
  },
  {
   "cell_type": "code",
   "execution_count": 30,
   "id": "782e869f",
   "metadata": {},
   "outputs": [
    {
     "data": {
      "text/plain": [
       "0.9290194783757015"
      ]
     },
     "execution_count": 30,
     "metadata": {},
     "output_type": "execute_result"
    }
   ],
   "source": [
    "# calculate the model accuracy\n",
    "acc_ada = model_ada.score(X_val_mice, y_val)\n",
    "acc_ada"
   ]
  },
  {
   "cell_type": "code",
   "execution_count": 31,
   "id": "a8830d5e",
   "metadata": {},
   "outputs": [
    {
     "data": {
      "text/plain": [
       "0.8528042184063798"
      ]
     },
     "execution_count": 31,
     "metadata": {},
     "output_type": "execute_result"
    }
   ],
   "source": [
    "# calculate the area under the receiver operating characteristic curve\n",
    "from sklearn.metrics import roc_curve, auc\n",
    "\n",
    "# compute the true positive rate and the false positive rate\n",
    "fpr, tpr, thresholds = roc_curve(y_val, y_pred_prob_ada[:, 1])\n",
    "auc_ada = auc(fpr, tpr)\n",
    "auc_ada"
   ]
  },
  {
   "cell_type": "code",
   "execution_count": 32,
   "id": "860bf93d",
   "metadata": {},
   "outputs": [
    {
     "data": {
      "text/plain": [
       "0.23276345602772286"
      ]
     },
     "execution_count": 32,
     "metadata": {},
     "output_type": "execute_result"
    }
   ],
   "source": [
    "# calculate the balanced error rate\n",
    "from sklearn.metrics import balanced_accuracy_score\n",
    "\n",
    "ber_ada = 1 - balanced_accuracy_score(y_val, y_pred_ada)\n",
    "ber_ada"
   ]
  },
  {
   "cell_type": "code",
   "execution_count": 33,
   "id": "e0e150ec",
   "metadata": {},
   "outputs": [
    {
     "data": {
      "image/png": "[encoded data removed]",
      "text/plain": [
       "<Figure size 640x480 with 2 Axes>"
      ]
     },
     "metadata": {},
     "output_type": "display_data"
    }
   ],
   "source": [
    "# confusion matrix for the val set\n",
    "from sklearn.metrics import confusion_matrix\n",
    "from sklearn.metrics import ConfusionMatrixDisplay\n",
    "\n",
    "cm_val_ada = confusion_matrix(y_val, y_pred_ada)\n",
    "cm_display_ada = ConfusionMatrixDisplay(confusion_matrix=cm_val_ada, display_labels=['0', '1'])\n",
    "cm_display_ada.plot()\n",
    "plt.show()"
   ]
  },
  {
   "cell_type": "code",
   "execution_count": 34,
   "id": "a21cfd49",
   "metadata": {},
   "outputs": [],
   "source": [
    "# predict the test set\n",
    "y_pred_test_ada = model_ada.predict(X_test_mice)\n",
    "y_pred_prob_test_ada = model_ada.predict_proba(X_test_mice)"
   ]
  },
  {
   "cell_type": "code",
   "execution_count": 35,
   "id": "8ed0b438",
   "metadata": {},
   "outputs": [],
   "source": [
    "test_results_ada = test_nolabel\n",
    "test_results_ada['Outcome'] = y_pred_test_ada\n",
    "test_results_ada['Score'] = y_pred_prob_test_ada[:, 1]"
   ]
  },
  {
   "cell_type": "code",
   "execution_count": 36,
   "id": "c4308173",
   "metadata": {},
   "outputs": [
    {
     "data": {
      "text/plain": [
       "0    5819\n",
       "1     671\n",
       "Name: Outcome, dtype: int64"
      ]
     },
     "execution_count": 36,
     "metadata": {},
     "output_type": "execute_result"
    }
   ],
   "source": [
    "test_results_ada['Outcome'].value_counts()"
   ]
  },
  {
   "cell_type": "code",
   "execution_count": 37,
   "id": "e4117ebd",
   "metadata": {},
   "outputs": [],
   "source": [
    "# export the test results\n",
    "test_results_ada.to_csv('test_results_ada.csv', index=False)"
   ]
  },
  {
   "cell_type": "code",
   "execution_count": null,
   "id": "fdd3aadf",
   "metadata": {},
   "outputs": [],
   "source": []
  },
  {
   "cell_type": "code",
   "execution_count": null,
   "id": "35cd9d77",
   "metadata": {},
   "outputs": [],
   "source": []
  },
  {
   "cell_type": "markdown",
   "id": "2eae238a",
   "metadata": {},
   "source": [
    "# Other Trials"
   ]
  },
  {
   "cell_type": "markdown",
   "id": "b9907076",
   "metadata": {},
   "source": [
    "# Logistic Regression"
   ]
  },
  {
   "cell_type": "code",
   "execution_count": null,
   "id": "527b263d",
   "metadata": {},
   "outputs": [],
   "source": [
    "hyper_params_log = [{'penalty': ['l1', 'l2', 'elasticnet'],\n",
    "                     'solver': ['lbfgs', 'newton-cg', 'newton-cholesky', 'sag', 'saga'],\n",
    "                     'max_iter': [10, 20, 50, 100, 200]}]"
   ]
  },
  {
   "cell_type": "code",
   "execution_count": null,
   "id": "64991521",
   "metadata": {},
   "outputs": [],
   "source": [
    "from sklearn.linear_model import LogisticRegression\n",
    "\n",
    "# model selection by 5-fold cross-validation\n",
    "model_log = LogisticRegression(random_state=100)\n",
    "model_log_cv = GridSearchCV(estimator=model_log,\n",
    "                            param_grid=hyper_params_log,\n",
    "                            scoring='accuracy',\n",
    "                            cv=folds,\n",
    "                            n_jobs=-1)\n",
    "model_log_cv.fit(X_train_smote, y_train_smote)"
   ]
  },
  {
   "cell_type": "code",
   "execution_count": null,
   "id": "7853db52",
   "metadata": {},
   "outputs": [],
   "source": [
    "model_log_cv.best_params_"
   ]
  },
  {
   "cell_type": "code",
   "execution_count": null,
   "id": "819d50b3",
   "metadata": {},
   "outputs": [],
   "source": [
    "# fit the best model\n",
    "model_log = LogisticRegression(penalty=model_log_cv.best_params_['penalty'], solver=model_log_cv.best_params_['solver'], max_iter=model_log_cv.best_params_['max_iter'], random_state=100)\n",
    "model_log.fit(X_train_smote, y_train_smote)"
   ]
  },
  {
   "cell_type": "code",
   "execution_count": null,
   "id": "3ea61221",
   "metadata": {},
   "outputs": [],
   "source": [
    "# predict the val set\n",
    "y_pred_log = model_log.predict(X_val_mice)\n",
    "y_pred_prob_log = model_log.predict_proba(X_val_mice)"
   ]
  },
  {
   "cell_type": "code",
   "execution_count": null,
   "id": "286dbba5",
   "metadata": {},
   "outputs": [],
   "source": [
    "# calculate model accuracy\n",
    "acc_log = model_log.score(X_val_mice, y_val)\n",
    "acc_log"
   ]
  },
  {
   "cell_type": "code",
   "execution_count": null,
   "id": "4468fb7a",
   "metadata": {},
   "outputs": [],
   "source": [
    "# calculate the area under the receiver operating characteristic curve\n",
    "from sklearn.metrics import roc_curve, auc \n",
    "\n",
    "# compute the true positive rate and the false positive rate\n",
    "fpr, tpr, thresholds = roc_curve(y_val, y_pred_prob_log[:, 1])\n",
    "auc_log = auc(fpr, tpr)\n",
    "auc_log"
   ]
  },
  {
   "cell_type": "code",
   "execution_count": null,
   "id": "e354f37d",
   "metadata": {},
   "outputs": [],
   "source": [
    "# calculate the balanced error rate\n",
    "from sklearn.metrics import balanced_accuracy_score\n",
    "\n",
    "ber_log = 1 - balanced_accuracy_score(y_val, y_pred_log)\n",
    "ber_log"
   ]
  },
  {
   "cell_type": "code",
   "execution_count": null,
   "id": "f5c6d545",
   "metadata": {},
   "outputs": [],
   "source": [
    "# confusion matrix for the val set\n",
    "from sklearn.metrics import confusion_matrix\n",
    "from sklearn.metrics import ConfusionMatrixDisplay\n",
    "\n",
    "cm_val_log = confusion_matrix(y_val, y_pred_log)\n",
    "cm_display_log = ConfusionMatrixDisplay(confusion_matrix=cm_val_log, display_labels=['0', '1'])\n",
    "cm_display_log.plot()\n",
    "plt.show()"
   ]
  },
  {
   "cell_type": "code",
   "execution_count": null,
   "id": "df70aab0",
   "metadata": {},
   "outputs": [],
   "source": []
  },
  {
   "cell_type": "code",
   "execution_count": null,
   "id": "b7c39fe2",
   "metadata": {},
   "outputs": [],
   "source": []
  },
  {
   "cell_type": "markdown",
   "id": "a06a2fb3",
   "metadata": {},
   "source": [
    "# Multilayer Perceptron"
   ]
  },
  {
   "cell_type": "code",
   "execution_count": null,
   "id": "0c472744",
   "metadata": {},
   "outputs": [],
   "source": [
    "import tensorflow\n",
    "from tensorflow import keras\n",
    "from keras.models import Sequential\n",
    "from keras.layers import Flatten, Dense, Dropout\n",
    "from keras.wrappers.scikit_learn import KerasClassifier"
   ]
  },
  {
   "cell_type": "code",
   "execution_count": null,
   "id": "47b93831",
   "metadata": {},
   "outputs": [],
   "source": [
    "# reshape the data\n",
    "from sklearn.preprocessing import MinMaxScaler\n",
    "\n",
    "sc = MinMaxScaler(feature_range=(0, 1))\n",
    "X_train_smote1 = sc.fit_transform(X_train_smote)\n",
    "X_val_mice1 = sc.fit_transform(X_val_mice)\n",
    "X_test_mice1 = sc.fit_transform(X_test_mice)"
   ]
  },
  {
   "cell_type": "code",
   "execution_count": null,
   "id": "5b1261f4",
   "metadata": {},
   "outputs": [],
   "source": [
    "hyper_params_mlp = [{'epochs': [5, 10, 15, 25, 35, 50],\n",
    "                     'batch_size': [20, 32, 50, 100, 200, 300],\n",
    "                     'unit': [5, 10, 30, 50, 100, 200, 300],\n",
    "                     'act': ['sigmoid', 'relu', 'tanh'],\n",
    "                     'drop': [0.1, 0.2, 0.5, 0.7, 0.8, 0.9],\n",
    "                     'opt': ['adam', 'sgd', 'rmsprop']}]"
   ]
  },
  {
   "cell_type": "code",
   "execution_count": null,
   "id": "3f4ccb97",
   "metadata": {},
   "outputs": [],
   "source": [
    "def create_model_mlp(unit, act, drop, opt):\n",
    "    # define a model\n",
    "    model = Sequential()\n",
    "    model.add(Flatten(input_shape=(37, 1)))\n",
    "    model.add(Dense(units=unit, activation=act))\n",
    "    model.add(Dropout(drop))\n",
    "    model.add(Dense(2, activation='softmax'))\n",
    "    # compile the model\n",
    "    model.compile(loss='sparse_categorical_crossentropy', optimizer=opt, metrics=['accuracy'])\n",
    "    return model\n",
    "\n",
    "model_keras_mlp = KerasClassifier(build_fn=create_model_mlp)"
   ]
  },
  {
   "cell_type": "code",
   "execution_count": null,
   "id": "e1b03c1e",
   "metadata": {},
   "outputs": [],
   "source": [
    "# model selection by 5-fold cross-validation\n",
    "model_mlp_cv = RandomizedSearchCV(estimator=model_keras_mlp,\n",
    "                                  param_distributions=hyper_params_mlp,\n",
    "                                  scoring='accuracy',\n",
    "                                  cv=folds,\n",
    "                                  n_jobs=-1,\n",
    "                                  random_state=100)\n",
    "model_mlp_cv.fit(X_train_smote1, y_train_smote, verbose=0)"
   ]
  },
  {
   "cell_type": "code",
   "execution_count": null,
   "id": "4e0647c8",
   "metadata": {},
   "outputs": [],
   "source": [
    "model_mlp_cv.best_params_"
   ]
  },
  {
   "cell_type": "code",
   "execution_count": null,
   "id": "a3c1207f",
   "metadata": {},
   "outputs": [],
   "source": [
    "# define the best model\n",
    "model_mlp = Sequential()\n",
    "model_mlp.add(Flatten(input_shape=(37, 1)))\n",
    "model_mlp.add(Dense(model_mlp_cv.best_params_['unit'], activation=model_mlp_cv.best_params_['act']))\n",
    "model_mlp.add(Dropout(model_mlp_cv.best_params_['drop']))\n",
    "model_mlp.add(Dense(2, activation='softmax'))\n",
    "# compile the model\n",
    "model_mlp.compile(loss='sparse_categorical_crossentropy',\n",
    "                  optimizer=model_mlp_cv.best_params_['opt'],\n",
    "                  metrics=['accuracy'])"
   ]
  },
  {
   "cell_type": "code",
   "execution_count": null,
   "id": "c291c5ab",
   "metadata": {},
   "outputs": [],
   "source": [
    "# fit the best model\n",
    "model_mlp.fit(X_train_smote1, y_train_smote, validation_split=0.2, epochs=model_mlp_cv.best_params_['epochs'], batch_size=model_mlp_cv.best_params_['batch_size'], verbose=0)"
   ]
  },
  {
   "cell_type": "code",
   "execution_count": null,
   "id": "cf4cc205",
   "metadata": {},
   "outputs": [],
   "source": [
    "# predict the val set\n",
    "y_pred_mlp = model_mlp.predict(X_val_mice1)"
   ]
  },
  {
   "cell_type": "code",
   "execution_count": null,
   "id": "9107fc6f",
   "metadata": {},
   "outputs": [],
   "source": [
    "# calculate the area under the receiver operating characteristic curve\n",
    "from sklearn.metrics import roc_curve\n",
    "\n",
    "fpr, tpr, thresholds = roc_curve(y_val, y_pred_mlp)\n",
    "auc_mlp = auc(fpr, tpr)\n",
    "auc_mlp"
   ]
  },
  {
   "cell_type": "code",
   "execution_count": null,
   "id": "52fd5a88",
   "metadata": {},
   "outputs": [],
   "source": [
    "val_loss_mlp, val_acc_mlp = model_mlp.evaluate(X_val_mice1, y_val, verbose=0)\n",
    "print('val loss:', val_loss_mlp)\n",
    "print('val accuracy:', val_acc_mlp)\n",
    "print('val error:', 1 - val_acc_mlp)"
   ]
  },
  {
   "cell_type": "code",
   "execution_count": null,
   "id": "4d94ce07",
   "metadata": {},
   "outputs": [],
   "source": []
  },
  {
   "cell_type": "code",
   "execution_count": null,
   "id": "a7a32ad0",
   "metadata": {},
   "outputs": [],
   "source": []
  },
  {
   "cell_type": "markdown",
   "id": "7fcd9af5",
   "metadata": {},
   "source": [
    "# Support Vector Machine"
   ]
  },
  {
   "cell_type": "code",
   "execution_count": null,
   "id": "6497e8e7",
   "metadata": {},
   "outputs": [],
   "source": [
    "hyper_params_svm = [{'C': [0.1, 0.5, 1, 5],\n",
    "                     'kernel': ['poly', 'rbf'],\n",
    "                     'degree': [1, 2, 3, 5, 8, 10],\n",
    "                     'gamma': ['scale', 'auto']}]"
   ]
  },
  {
   "cell_type": "code",
   "execution_count": null,
   "id": "8aff185d",
   "metadata": {},
   "outputs": [],
   "source": [
    "from sklearn.svm import SVC\n",
    "\n",
    "# model selection by 5-fold cross-validation\n",
    "model_svm = SVC(random_state=100)\n",
    "model_svm_cv = GridSearchCV(estimator=model_svm,\n",
    "                            param_grid=hyper_params_svm,\n",
    "                            scoring='accuracy',\n",
    "                            cv=folds,\n",
    "                            n_jobs=-1)\n",
    "model_svm_cv.fit(X_train_smote.iloc[:100], y_train_smote[:100])"
   ]
  },
  {
   "cell_type": "code",
   "execution_count": null,
   "id": "05964f03",
   "metadata": {},
   "outputs": [],
   "source": [
    "model_svm_cv.best_params_"
   ]
  },
  {
   "cell_type": "code",
   "execution_count": null,
   "id": "5490e290",
   "metadata": {},
   "outputs": [],
   "source": [
    "# fit the best model\n",
    "model_svm = SVC(kernel=model_svm_cv.best_params_['kernel'], C=model_svm_cv.best_params_['C'], gamma=model_svm_cv.best_params_['gamma'], degree=model_svm_cv.best_params_['degree'], random_state=100)\n",
    "model_svm.fit(X_train_smote, y_train_smote)"
   ]
  },
  {
   "cell_type": "code",
   "execution_count": null,
   "id": "2c28a975",
   "metadata": {},
   "outputs": [],
   "source": [
    "# predict the val set\n",
    "y_pred_svm = model_svm.predict(X_val_mice)\n",
    "y_pred_prob_svm = model_svm.predict_proba(X_val_mice)"
   ]
  },
  {
   "cell_type": "code",
   "execution_count": null,
   "id": "aad7813d",
   "metadata": {},
   "outputs": [],
   "source": [
    "# calculate the model accuracy\n",
    "acc_svm = model_svm.score(X_val_mice, y_val)\n",
    "acc_svm"
   ]
  },
  {
   "cell_type": "code",
   "execution_count": null,
   "id": "de13e2ea",
   "metadata": {},
   "outputs": [],
   "source": [
    "# calculate the area under the receiver operating characteristic curve\n",
    "from sklearn.metrics import roc_curve, auc\n",
    "\n",
    "# compute the true positive rate and the false positive rate\n",
    "fpr, tpr, thresholds = roc_curve(y_val, y_pred_prob_svm[:, 1])\n",
    "auc_svm = auc(fpr, tpr)\n",
    "auc_svm"
   ]
  },
  {
   "cell_type": "code",
   "execution_count": null,
   "id": "afe14c99",
   "metadata": {},
   "outputs": [],
   "source": [
    "# calculate the balanced error rate\n",
    "from sklearn.metrics import balanced_accuracy_score\n",
    "\n",
    "ber_svm = 1 - balanced_accuracy_score(y_val, y_pred_svm)\n",
    "ber_svm"
   ]
  },
  {
   "cell_type": "code",
   "execution_count": null,
   "id": "33fd23fe",
   "metadata": {},
   "outputs": [],
   "source": [
    "# confusion matrix for the val set\n",
    "from sklearn.metrics import confusion_matrix\n",
    "from sklearn.metrics import ConfusionMatrixDisplay\n",
    "\n",
    "cm_val_svm = confusion_matrix(y_val, y_pred_svm)\n",
    "cm_display_svm = ConfusionMatrixDisplay(confusion_matrix=cm_val_svm, display_labels=['0', '1'])\n",
    "cm_display_svm.plot()\n",
    "plt.show()"
   ]
  },
  {
   "cell_type": "code",
   "execution_count": null,
   "id": "6d197ce2",
   "metadata": {},
   "outputs": [],
   "source": []
  },
  {
   "cell_type": "code",
   "execution_count": null,
   "id": "4f488983",
   "metadata": {},
   "outputs": [],
   "source": []
  }
 ],
 "metadata": {
  "kernelspec": {
   "display_name": "Python 3 (ipykernel)",
   "language": "python",
   "name": "python3"
  },
  "language_info": {
   "codemirror_mode": {
    "name": "ipython",
    "version": 3
   },
   "file_extension": ".py",
   "mimetype": "text/x-python",
   "name": "python",
   "nbconvert_exporter": "python",
   "pygments_lexer": "ipython3",
   "version": "3.9.13"
  }
 },
 "nbformat": 4,
 "nbformat_minor": 5
}
